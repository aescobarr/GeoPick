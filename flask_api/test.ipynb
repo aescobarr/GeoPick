{
 "cells": [
  {
   "cell_type": "code",
   "execution_count": 11,
   "metadata": {},
   "outputs": [
    {
     "name": "stdout",
     "output_type": "stream",
     "text": [
      "LINESTRING (-17.0000000000000000 51.0000000000000000, 20.0000000000000000 40.0000000000000000, 30.0000000000000000 60.0000000000000000)\n",
      "<class 'shapely.geometry.linestring.LineString'>\n",
      "0    LINESTRING (-17.00000 51.00000, 20.00000 40.00...\n",
      "dtype: geometry\n",
      "LINESTRING (-17 51, 20 40, 30 60)\n"
     ]
    }
   ],
   "source": [
    "import geopandas as gpd\n",
    "from shapely.wkt import loads\n",
    "from shapely.wkt import dumps\n",
    "\n",
    "# Assuming you have a WKT string\n",
    "wkt_string = \"LINESTRING (-17 51, 20 40, 30 60)\"\n",
    "\n",
    "# Convert the WKT string to a Shapely geometry object\n",
    "geometry = loads(wkt_string)\n",
    "print(dumps(geometry))\n",
    "print(type(geometry))\n",
    "# Create a GeoSeries from the Shapely geometry object\n",
    "geo_series = gpd.GeoSeries(geometry)\n",
    "\n",
    "# Now you have a GeoSeries containing the geometry\n",
    "print(geo_series)\n",
    "print(geo_series[0])\n"
   ]
  },
  {
   "cell_type": "code",
   "execution_count": 17,
   "metadata": {},
   "outputs": [
    {
     "data": {
      "text/plain": [
       "'{\"locationID\": 4, \"decimalLongitude\": 5, \"coordinatePrecision\": 1e-07}'"
      ]
     },
     "execution_count": 17,
     "metadata": {},
     "output_type": "execute_result"
    }
   ],
   "source": [
    "from collections import OrderedDict\n",
    "from flask import jsonify\n",
    "import json\n",
    "# Create an ordered dictionary to maintain the order of keys\n",
    "response_data = OrderedDict([\n",
    "    ('locationID', 4),\n",
    "    ('decimalLongitude', 5),\n",
    "    ('coordinatePrecision', 0.0000001)\n",
    "])\n",
    "response_data\n",
    "# Convert the ordered dictionary to JSON response\n",
    "json.dumps(response_data)"
   ]
  },
  {
   "cell_type": "code",
   "execution_count": 21,
   "metadata": {},
   "outputs": [
    {
     "data": {
      "text/plain": [
       "True"
      ]
     },
     "execution_count": 21,
     "metadata": {},
     "output_type": "execute_result"
    }
   ],
   "source": [
    "# Simple check to assume coordinates are in EPSG4326\n",
    "def isLatLon(lon, lat):\n",
    "  ok = True\n",
    "  if lon > 180 or lon < -180:\n",
    "    ok = False\n",
    "  if lat > 90 or lat < -90:\n",
    "    ok = False\n",
    "  return ok  \n",
    "\n",
    "isLatLon(45, 7)"
   ]
  },
  {
   "cell_type": "code",
   "execution_count": 34,
   "metadata": {},
   "outputs": [
    {
     "data": {
      "text/plain": [
       "'{\"Error\": \"Geometry does not appear to be in EPSG:4326 (Lat/Lon)\"}'"
      ]
     },
     "execution_count": 34,
     "metadata": {},
     "output_type": "execute_result"
    }
   ],
   "source": [
    "from flask import Flask, request, jsonify\n",
    "# json.dumps(OrderedDict([('Error', \"Geometry does not appear to be in EPSG:4326 (Lat/Lon)\")]))\n",
    "# json.dumps({'Error', 'Geometry does not appear to be in EPSG:4326 (Lat/Lon)'})\n",
    "# error_data = {'Error': \"Geometry does not appear to be in EPSG:4326 (Lat/Lon)\"}\n",
    "json.dumps({\"Error\": \"Geometry does not appear to be in EPSG:4326 (Lat/Lon)\"})\n",
    "# Convert the dictionary to a JSON string\n",
    "# json_response = json.dumps(error_data)\n",
    "# json_response"
   ]
  },
  {
   "cell_type": "code",
   "execution_count": 55,
   "metadata": {},
   "outputs": [
    {
     "name": "stdout",
     "output_type": "stream",
     "text": [
      "All points ok\n"
     ]
    }
   ],
   "source": [
    "from shapely.geometry import Polygon, MultiPolygon, LineString, MultiLineString\n",
    "\n",
    "\n",
    "def isLatLon(lat, lon): \n",
    "  ok = True\n",
    "  if lon > 180 or lon < -180:\n",
    "    ok = False\n",
    "  if lat > 90 or lat < -90:\n",
    "    ok = False\n",
    "  return ok  \n",
    "\n",
    "def iterate_coordinates(geometry):\n",
    "    if geometry.geom_type == 'Polygon':\n",
    "        for point in geometry.exterior.coords:\n",
    "            yield point\n",
    "    elif geometry.geom_type == 'MultiPolygon':\n",
    "        for polygon in geometry.geoms:\n",
    "            for point in polygon.exterior.coords:\n",
    "                yield point\n",
    "    elif geometry.geom_type == 'LineString':\n",
    "        for point in geometry.coords:\n",
    "            yield point\n",
    "    elif geometry.geom_type == 'MultiLineString':\n",
    "        for linestring in geometry.geoms:\n",
    "            for point in linestring.coords:\n",
    "                yield point\n",
    "\n",
    "def wktIsLatLon(wkt):\n",
    "  wktOK = True\n",
    "  for point in iterate_coordinates(wkt): \n",
    "      if not isLatLon(point[1], point[0]):\n",
    "        wktOK = False\n",
    "        break\n",
    "  return wktOK\n",
    "\n",
    "# Example geometries\n",
    "polygon = Polygon([(0, 0), (10, 10), (1, 1), (0, 1), (0, 0)])\n",
    "multi_polygon = MultiPolygon([polygon])\n",
    "line_string = LineString([(0, 0), (1, 1), (200, 0)])\n",
    "multi_line_string = MultiLineString([line_string])\n",
    "\n",
    "wktIsLatLon(polygon)\n"
   ]
  },
  {
   "cell_type": "code",
   "execution_count": 56,
   "metadata": {},
   "outputs": [
    {
     "data": {
      "text/html": [
       "<div>\n",
       "<style scoped>\n",
       "    .dataframe tbody tr th:only-of-type {\n",
       "        vertical-align: middle;\n",
       "    }\n",
       "\n",
       "    .dataframe tbody tr th {\n",
       "        vertical-align: top;\n",
       "    }\n",
       "\n",
       "    .dataframe thead th {\n",
       "        text-align: right;\n",
       "    }\n",
       "</style>\n",
       "<table border=\"1\" class=\"dataframe\">\n",
       "  <thead>\n",
       "    <tr style=\"text-align: right;\">\n",
       "      <th></th>\n",
       "      <th>geometry</th>\n",
       "    </tr>\n",
       "  </thead>\n",
       "  <tbody>\n",
       "    <tr>\n",
       "      <th>0</th>\n",
       "      <td>None</td>\n",
       "    </tr>\n",
       "  </tbody>\n",
       "</table>\n",
       "</div>"
      ],
      "text/plain": [
       "  geometry\n",
       "0     None"
      ]
     },
     "execution_count": 56,
     "metadata": {},
     "output_type": "execute_result"
    }
   ],
   "source": [
    "import geopandas as gpd\n",
    "s = '{\"type\": \"Feature\", \"properties\": {}, \"geometry\": {\"type\": \"LineString\", \"coordinates\": [[[-50.29953, 58.385518], [-26.115189, 65.000261], [-44.378586, 41.740066]]]}}'\n",
    "gpd.read_file(s, driver = 'GeoJSON')"
   ]
  },
  {
   "cell_type": "code",
   "execution_count": 57,
   "metadata": {},
   "outputs": [
    {
     "data": {
      "text/plain": [
       "'[\"Error\", \"Geometry does not appear to be in EPSG:4326 (Lat/Lon)\"]'"
      ]
     },
     "execution_count": 57,
     "metadata": {},
     "output_type": "execute_result"
    }
   ],
   "source": [
    "json.dumps((\"Error\", \"Geometry does not appear to be in EPSG:4326 (Lat/Lon)\"))"
   ]
  },
  {
   "cell_type": "code",
   "execution_count": 14,
   "metadata": {},
   "outputs": [
    {
     "name": "stdout",
     "output_type": "stream",
     "text": [
      "MULTIPOLYGON (((0 0, 10 0, 10 10, 0 10, 0 0), (2 2, 2 8, 8 8, 8 2, 2 2)), ((20 20, 30 20, 30 30, 20 30, 20 20), (22 22, 22 28, 28 28, 28 22, 22 22)))\n"
     ]
    },
    {
     "data": {
      "text/html": [
       "<div>\n",
       "<style scoped>\n",
       "    .dataframe tbody tr th:only-of-type {\n",
       "        vertical-align: middle;\n",
       "    }\n",
       "\n",
       "    .dataframe tbody tr th {\n",
       "        vertical-align: top;\n",
       "    }\n",
       "\n",
       "    .dataframe thead th {\n",
       "        text-align: right;\n",
       "    }\n",
       "</style>\n",
       "<table border=\"1\" class=\"dataframe\">\n",
       "  <thead>\n",
       "    <tr style=\"text-align: right;\">\n",
       "      <th></th>\n",
       "      <th>x</th>\n",
       "      <th>y</th>\n",
       "    </tr>\n",
       "  </thead>\n",
       "  <tbody>\n",
       "    <tr>\n",
       "      <th>0</th>\n",
       "      <td>0.0</td>\n",
       "      <td>0.0</td>\n",
       "    </tr>\n",
       "    <tr>\n",
       "      <th>0</th>\n",
       "      <td>10.0</td>\n",
       "      <td>0.0</td>\n",
       "    </tr>\n",
       "    <tr>\n",
       "      <th>0</th>\n",
       "      <td>10.0</td>\n",
       "      <td>10.0</td>\n",
       "    </tr>\n",
       "    <tr>\n",
       "      <th>0</th>\n",
       "      <td>0.0</td>\n",
       "      <td>10.0</td>\n",
       "    </tr>\n",
       "    <tr>\n",
       "      <th>0</th>\n",
       "      <td>0.0</td>\n",
       "      <td>0.0</td>\n",
       "    </tr>\n",
       "    <tr>\n",
       "      <th>0</th>\n",
       "      <td>2.0</td>\n",
       "      <td>2.0</td>\n",
       "    </tr>\n",
       "    <tr>\n",
       "      <th>0</th>\n",
       "      <td>2.0</td>\n",
       "      <td>8.0</td>\n",
       "    </tr>\n",
       "    <tr>\n",
       "      <th>0</th>\n",
       "      <td>8.0</td>\n",
       "      <td>8.0</td>\n",
       "    </tr>\n",
       "    <tr>\n",
       "      <th>0</th>\n",
       "      <td>8.0</td>\n",
       "      <td>2.0</td>\n",
       "    </tr>\n",
       "    <tr>\n",
       "      <th>0</th>\n",
       "      <td>2.0</td>\n",
       "      <td>2.0</td>\n",
       "    </tr>\n",
       "    <tr>\n",
       "      <th>0</th>\n",
       "      <td>20.0</td>\n",
       "      <td>20.0</td>\n",
       "    </tr>\n",
       "    <tr>\n",
       "      <th>0</th>\n",
       "      <td>30.0</td>\n",
       "      <td>20.0</td>\n",
       "    </tr>\n",
       "    <tr>\n",
       "      <th>0</th>\n",
       "      <td>30.0</td>\n",
       "      <td>30.0</td>\n",
       "    </tr>\n",
       "    <tr>\n",
       "      <th>0</th>\n",
       "      <td>20.0</td>\n",
       "      <td>30.0</td>\n",
       "    </tr>\n",
       "    <tr>\n",
       "      <th>0</th>\n",
       "      <td>20.0</td>\n",
       "      <td>20.0</td>\n",
       "    </tr>\n",
       "    <tr>\n",
       "      <th>0</th>\n",
       "      <td>22.0</td>\n",
       "      <td>22.0</td>\n",
       "    </tr>\n",
       "    <tr>\n",
       "      <th>0</th>\n",
       "      <td>22.0</td>\n",
       "      <td>28.0</td>\n",
       "    </tr>\n",
       "    <tr>\n",
       "      <th>0</th>\n",
       "      <td>28.0</td>\n",
       "      <td>28.0</td>\n",
       "    </tr>\n",
       "    <tr>\n",
       "      <th>0</th>\n",
       "      <td>28.0</td>\n",
       "      <td>22.0</td>\n",
       "    </tr>\n",
       "    <tr>\n",
       "      <th>0</th>\n",
       "      <td>22.0</td>\n",
       "      <td>22.0</td>\n",
       "    </tr>\n",
       "  </tbody>\n",
       "</table>\n",
       "</div>"
      ],
      "text/plain": [
       "      x     y\n",
       "0   0.0   0.0\n",
       "0  10.0   0.0\n",
       "0  10.0  10.0\n",
       "0   0.0  10.0\n",
       "0   0.0   0.0\n",
       "0   2.0   2.0\n",
       "0   2.0   8.0\n",
       "0   8.0   8.0\n",
       "0   8.0   2.0\n",
       "0   2.0   2.0\n",
       "0  20.0  20.0\n",
       "0  30.0  20.0\n",
       "0  30.0  30.0\n",
       "0  20.0  30.0\n",
       "0  20.0  20.0\n",
       "0  22.0  22.0\n",
       "0  22.0  28.0\n",
       "0  28.0  28.0\n",
       "0  28.0  22.0\n",
       "0  22.0  22.0"
      ]
     },
     "execution_count": 14,
     "metadata": {},
     "output_type": "execute_result"
    }
   ],
   "source": [
    "import geopandas as gpd\n",
    "from shapely.geometry import shape\n",
    "\n",
    "# Define your JSON data\n",
    "json_data = {\n",
    "  \"type\": \"Feature\",\n",
    "  \"properties\": {},\n",
    "  \"geometry\": {\n",
    "    \"type\": \"MultiPolygon\",\n",
    "    \"coordinates\": [\n",
    "      [\n",
    "        [\n",
    "          [0, 0],\n",
    "          [10, 0],\n",
    "          [10, 10],\n",
    "          [0, 10],\n",
    "          [0, 0]\n",
    "        ],\n",
    "        [\n",
    "          [2, 2],\n",
    "          [2, 8],\n",
    "          [8, 8],\n",
    "          [8, 2],\n",
    "          [2, 2]\n",
    "        ]\n",
    "      ],\n",
    "      [\n",
    "        [\n",
    "          [20, 20],\n",
    "          [30, 20],\n",
    "          [30, 30],\n",
    "          [20, 30],\n",
    "          [20, 20]\n",
    "        ],\n",
    "        [\n",
    "          [22, 22],\n",
    "          [22, 28],\n",
    "          [28, 28],\n",
    "          [28, 22],\n",
    "          [22, 22]\n",
    "        ]\n",
    "      ]\n",
    "    ]\n",
    "  }\n",
    "}\n",
    "\n",
    "\n",
    "# Convert JSON data to a GeoDataFrame\n",
    "geometry = shape(json_data['geometry'])\n",
    "gdf = gpd.GeoDataFrame(geometry=[geometry])\n",
    "\n",
    "# Convert GeoDataFrame to GeoSeries\n",
    "geoseries = gdf['geometry']\n",
    "\n",
    "print(geoseries[0])"
   ]
  },
  {
   "cell_type": "code",
   "execution_count": 15,
   "metadata": {},
   "outputs": [
    {
     "data": {
      "text/plain": [
       "'{\"type\": \"FeatureCollection\", \"features\": [{\"id\": \"0\", \"type\": \"Feature\", \"properties\": {}, \"geometry\": {\"type\": \"MultiPolygon\", \"coordinates\": [[[[0.0, 0.0], [10.0, 0.0], [10.0, 10.0], [0.0, 10.0], [0.0, 0.0]], [[2.0, 2.0], [2.0, 8.0], [8.0, 8.0], [8.0, 2.0], [2.0, 2.0]]], [[[20.0, 20.0], [30.0, 20.0], [30.0, 30.0], [20.0, 30.0], [20.0, 20.0]], [[22.0, 22.0], [22.0, 28.0], [28.0, 28.0], [28.0, 22.0], [22.0, 22.0]]]]}, \"bbox\": [0.0, 0.0, 30.0, 30.0]}], \"bbox\": [0.0, 0.0, 30.0, 30.0]}'"
      ]
     },
     "execution_count": 15,
     "metadata": {},
     "output_type": "execute_result"
    }
   ],
   "source": [
    "geoseries.to_json()"
   ]
  },
  {
   "cell_type": "code",
   "execution_count": 32,
   "metadata": {},
   "outputs": [
    {
     "name": "stdout",
     "output_type": "stream",
     "text": [
      "0.0\n",
      "10.0\n",
      "10.0\n",
      "0.0\n",
      "0.0\n",
      "2.0\n",
      "2.0\n",
      "8.0\n",
      "8.0\n",
      "2.0\n",
      "20.0\n",
      "30.0\n",
      "30.0\n",
      "20.0\n",
      "20.0\n",
      "22.0\n",
      "22.0\n",
      "28.0\n",
      "28.0\n",
      "22.0\n"
     ]
    }
   ],
   "source": [
    "coordinates_df = geoseries.get_coordinates()\n",
    "for index, row in coordinates_df.iterrows():\n",
    "    # Access row data using row['column_name']\n",
    "    print(row['x'])"
   ]
  },
  {
   "cell_type": "code",
   "execution_count": null,
   "metadata": {},
   "outputs": [],
   "source": []
  }
 ],
 "metadata": {
  "kernelspec": {
   "display_name": "Python 3",
   "language": "python",
   "name": "python3"
  },
  "language_info": {
   "codemirror_mode": {
    "name": "ipython",
    "version": 3
   },
   "file_extension": ".py",
   "mimetype": "text/x-python",
   "name": "python",
   "nbconvert_exporter": "python",
   "pygments_lexer": "ipython3",
   "version": "3.11.6"
  }
 },
 "nbformat": 4,
 "nbformat_minor": 2
}
