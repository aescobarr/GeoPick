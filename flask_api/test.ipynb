{
 "cells": [
  {
   "cell_type": "code",
   "execution_count": 11,
   "metadata": {},
   "outputs": [
    {
     "name": "stdout",
     "output_type": "stream",
     "text": [
      "LINESTRING (-17.0000000000000000 51.0000000000000000, 20.0000000000000000 40.0000000000000000, 30.0000000000000000 60.0000000000000000)\n",
      "<class 'shapely.geometry.linestring.LineString'>\n",
      "0    LINESTRING (-17.00000 51.00000, 20.00000 40.00...\n",
      "dtype: geometry\n",
      "LINESTRING (-17 51, 20 40, 30 60)\n"
     ]
    }
   ],
   "source": [
    "import geopandas as gpd\n",
    "from shapely.wkt import loads\n",
    "from shapely.wkt import dumps\n",
    "\n",
    "# Assuming you have a WKT string\n",
    "wkt_string = \"LINESTRING (-17 51, 20 40, 30 60)\"\n",
    "\n",
    "# Convert the WKT string to a Shapely geometry object\n",
    "geometry = loads(wkt_string)\n",
    "print(dumps(geometry))\n",
    "print(type(geometry))\n",
    "# Create a GeoSeries from the Shapely geometry object\n",
    "geo_series = gpd.GeoSeries(geometry)\n",
    "\n",
    "# Now you have a GeoSeries containing the geometry\n",
    "print(geo_series)\n",
    "print(geo_series[0])\n"
   ]
  },
  {
   "cell_type": "code",
   "execution_count": 17,
   "metadata": {},
   "outputs": [
    {
     "data": {
      "text/plain": [
       "'{\"locationID\": 4, \"decimalLongitude\": 5, \"coordinatePrecision\": 1e-07}'"
      ]
     },
     "execution_count": 17,
     "metadata": {},
     "output_type": "execute_result"
    }
   ],
   "source": [
    "from collections import OrderedDict\n",
    "from flask import jsonify\n",
    "import json\n",
    "# Create an ordered dictionary to maintain the order of keys\n",
    "response_data = OrderedDict([\n",
    "    ('locationID', 4),\n",
    "    ('decimalLongitude', 5),\n",
    "    ('coordinatePrecision', 0.0000001)\n",
    "])\n",
    "response_data\n",
    "# Convert the ordered dictionary to JSON response\n",
    "json.dumps(response_data)"
   ]
  },
  {
   "cell_type": "code",
   "execution_count": 21,
   "metadata": {},
   "outputs": [
    {
     "data": {
      "text/plain": [
       "True"
      ]
     },
     "execution_count": 21,
     "metadata": {},
     "output_type": "execute_result"
    }
   ],
   "source": [
    "# Simple check to assume coordinates are in EPSG4326\n",
    "def isLatLon(lon, lat):\n",
    "  ok = True\n",
    "  if lon > 180 or lon < -180:\n",
    "    ok = False\n",
    "  if lat > 90 or lat < -90:\n",
    "    ok = False\n",
    "  return ok  \n",
    "\n",
    "isLatLon(45, 7)"
   ]
  },
  {
   "cell_type": "code",
   "execution_count": 34,
   "metadata": {},
   "outputs": [
    {
     "data": {
      "text/plain": [
       "'{\"Error\": \"Geometry does not appear to be in EPSG:4326 (Lat/Lon)\"}'"
      ]
     },
     "execution_count": 34,
     "metadata": {},
     "output_type": "execute_result"
    }
   ],
   "source": [
    "from flask import Flask, request, jsonify\n",
    "# json.dumps(OrderedDict([('Error', \"Geometry does not appear to be in EPSG:4326 (Lat/Lon)\")]))\n",
    "# json.dumps({'Error', 'Geometry does not appear to be in EPSG:4326 (Lat/Lon)'})\n",
    "# error_data = {'Error': \"Geometry does not appear to be in EPSG:4326 (Lat/Lon)\"}\n",
    "json.dumps({\"Error\": \"Geometry does not appear to be in EPSG:4326 (Lat/Lon)\"})\n",
    "# Convert the dictionary to a JSON string\n",
    "# json_response = json.dumps(error_data)\n",
    "# json_response"
   ]
  },
  {
   "cell_type": "code",
   "execution_count": 55,
   "metadata": {},
   "outputs": [
    {
     "name": "stdout",
     "output_type": "stream",
     "text": [
      "All points ok\n"
     ]
    }
   ],
   "source": [
    "from shapely.geometry import Polygon, MultiPolygon, LineString, MultiLineString\n",
    "\n",
    "\n",
    "def isLatLon(lat, lon): \n",
    "  ok = True\n",
    "  if lon > 180 or lon < -180:\n",
    "    ok = False\n",
    "  if lat > 90 or lat < -90:\n",
    "    ok = False\n",
    "  return ok  \n",
    "\n",
    "def iterate_coordinates(geometry):\n",
    "    if geometry.geom_type == 'Polygon':\n",
    "        for point in geometry.exterior.coords:\n",
    "            yield point\n",
    "    elif geometry.geom_type == 'MultiPolygon':\n",
    "        for polygon in geometry.geoms:\n",
    "            for point in polygon.exterior.coords:\n",
    "                yield point\n",
    "    elif geometry.geom_type == 'LineString':\n",
    "        for point in geometry.coords:\n",
    "            yield point\n",
    "    elif geometry.geom_type == 'MultiLineString':\n",
    "        for linestring in geometry.geoms:\n",
    "            for point in linestring.coords:\n",
    "                yield point\n",
    "\n",
    "def wktIsLatLon(wkt):\n",
    "  wktOK = True\n",
    "  for point in iterate_coordinates(wkt): \n",
    "      if not isLatLon(point[1], point[0]):\n",
    "        wktOK = False\n",
    "        break\n",
    "  return wktOK\n",
    "\n",
    "# Example geometries\n",
    "polygon = Polygon([(0, 0), (10, 10), (1, 1), (0, 1), (0, 0)])\n",
    "multi_polygon = MultiPolygon([polygon])\n",
    "line_string = LineString([(0, 0), (1, 1), (200, 0)])\n",
    "multi_line_string = MultiLineString([line_string])\n",
    "\n",
    "wktIsLatLon(polygon)\n"
   ]
  },
  {
   "cell_type": "code",
   "execution_count": 56,
   "metadata": {},
   "outputs": [
    {
     "data": {
      "text/html": [
       "<div>\n",
       "<style scoped>\n",
       "    .dataframe tbody tr th:only-of-type {\n",
       "        vertical-align: middle;\n",
       "    }\n",
       "\n",
       "    .dataframe tbody tr th {\n",
       "        vertical-align: top;\n",
       "    }\n",
       "\n",
       "    .dataframe thead th {\n",
       "        text-align: right;\n",
       "    }\n",
       "</style>\n",
       "<table border=\"1\" class=\"dataframe\">\n",
       "  <thead>\n",
       "    <tr style=\"text-align: right;\">\n",
       "      <th></th>\n",
       "      <th>geometry</th>\n",
       "    </tr>\n",
       "  </thead>\n",
       "  <tbody>\n",
       "    <tr>\n",
       "      <th>0</th>\n",
       "      <td>None</td>\n",
       "    </tr>\n",
       "  </tbody>\n",
       "</table>\n",
       "</div>"
      ],
      "text/plain": [
       "  geometry\n",
       "0     None"
      ]
     },
     "execution_count": 56,
     "metadata": {},
     "output_type": "execute_result"
    }
   ],
   "source": [
    "import geopandas as gpd\n",
    "s = '{\"type\": \"Feature\", \"properties\": {}, \"geometry\": {\"type\": \"LineString\", \"coordinates\": [[[-50.29953, 58.385518], [-26.115189, 65.000261], [-44.378586, 41.740066]]]}}'\n",
    "gpd.read_file(s, driver = 'GeoJSON')"
   ]
  },
  {
   "cell_type": "code",
   "execution_count": 57,
   "metadata": {},
   "outputs": [
    {
     "data": {
      "text/plain": [
       "'[\"Error\", \"Geometry does not appear to be in EPSG:4326 (Lat/Lon)\"]'"
      ]
     },
     "execution_count": 57,
     "metadata": {},
     "output_type": "execute_result"
    }
   ],
   "source": [
    "json.dumps((\"Error\", \"Geometry does not appear to be in EPSG:4326 (Lat/Lon)\"))"
   ]
  },
  {
   "cell_type": "code",
   "execution_count": 14,
   "metadata": {},
   "outputs": [
    {
     "name": "stdout",
     "output_type": "stream",
     "text": [
      "MULTIPOLYGON (((0 0, 10 0, 10 10, 0 10, 0 0), (2 2, 2 8, 8 8, 8 2, 2 2)), ((20 20, 30 20, 30 30, 20 30, 20 20), (22 22, 22 28, 28 28, 28 22, 22 22)))\n"
     ]
    },
    {
     "data": {
      "text/html": [
       "<div>\n",
       "<style scoped>\n",
       "    .dataframe tbody tr th:only-of-type {\n",
       "        vertical-align: middle;\n",
       "    }\n",
       "\n",
       "    .dataframe tbody tr th {\n",
       "        vertical-align: top;\n",
       "    }\n",
       "\n",
       "    .dataframe thead th {\n",
       "        text-align: right;\n",
       "    }\n",
       "</style>\n",
       "<table border=\"1\" class=\"dataframe\">\n",
       "  <thead>\n",
       "    <tr style=\"text-align: right;\">\n",
       "      <th></th>\n",
       "      <th>x</th>\n",
       "      <th>y</th>\n",
       "    </tr>\n",
       "  </thead>\n",
       "  <tbody>\n",
       "    <tr>\n",
       "      <th>0</th>\n",
       "      <td>0.0</td>\n",
       "      <td>0.0</td>\n",
       "    </tr>\n",
       "    <tr>\n",
       "      <th>0</th>\n",
       "      <td>10.0</td>\n",
       "      <td>0.0</td>\n",
       "    </tr>\n",
       "    <tr>\n",
       "      <th>0</th>\n",
       "      <td>10.0</td>\n",
       "      <td>10.0</td>\n",
       "    </tr>\n",
       "    <tr>\n",
       "      <th>0</th>\n",
       "      <td>0.0</td>\n",
       "      <td>10.0</td>\n",
       "    </tr>\n",
       "    <tr>\n",
       "      <th>0</th>\n",
       "      <td>0.0</td>\n",
       "      <td>0.0</td>\n",
       "    </tr>\n",
       "    <tr>\n",
       "      <th>0</th>\n",
       "      <td>2.0</td>\n",
       "      <td>2.0</td>\n",
       "    </tr>\n",
       "    <tr>\n",
       "      <th>0</th>\n",
       "      <td>2.0</td>\n",
       "      <td>8.0</td>\n",
       "    </tr>\n",
       "    <tr>\n",
       "      <th>0</th>\n",
       "      <td>8.0</td>\n",
       "      <td>8.0</td>\n",
       "    </tr>\n",
       "    <tr>\n",
       "      <th>0</th>\n",
       "      <td>8.0</td>\n",
       "      <td>2.0</td>\n",
       "    </tr>\n",
       "    <tr>\n",
       "      <th>0</th>\n",
       "      <td>2.0</td>\n",
       "      <td>2.0</td>\n",
       "    </tr>\n",
       "    <tr>\n",
       "      <th>0</th>\n",
       "      <td>20.0</td>\n",
       "      <td>20.0</td>\n",
       "    </tr>\n",
       "    <tr>\n",
       "      <th>0</th>\n",
       "      <td>30.0</td>\n",
       "      <td>20.0</td>\n",
       "    </tr>\n",
       "    <tr>\n",
       "      <th>0</th>\n",
       "      <td>30.0</td>\n",
       "      <td>30.0</td>\n",
       "    </tr>\n",
       "    <tr>\n",
       "      <th>0</th>\n",
       "      <td>20.0</td>\n",
       "      <td>30.0</td>\n",
       "    </tr>\n",
       "    <tr>\n",
       "      <th>0</th>\n",
       "      <td>20.0</td>\n",
       "      <td>20.0</td>\n",
       "    </tr>\n",
       "    <tr>\n",
       "      <th>0</th>\n",
       "      <td>22.0</td>\n",
       "      <td>22.0</td>\n",
       "    </tr>\n",
       "    <tr>\n",
       "      <th>0</th>\n",
       "      <td>22.0</td>\n",
       "      <td>28.0</td>\n",
       "    </tr>\n",
       "    <tr>\n",
       "      <th>0</th>\n",
       "      <td>28.0</td>\n",
       "      <td>28.0</td>\n",
       "    </tr>\n",
       "    <tr>\n",
       "      <th>0</th>\n",
       "      <td>28.0</td>\n",
       "      <td>22.0</td>\n",
       "    </tr>\n",
       "    <tr>\n",
       "      <th>0</th>\n",
       "      <td>22.0</td>\n",
       "      <td>22.0</td>\n",
       "    </tr>\n",
       "  </tbody>\n",
       "</table>\n",
       "</div>"
      ],
      "text/plain": [
       "      x     y\n",
       "0   0.0   0.0\n",
       "0  10.0   0.0\n",
       "0  10.0  10.0\n",
       "0   0.0  10.0\n",
       "0   0.0   0.0\n",
       "0   2.0   2.0\n",
       "0   2.0   8.0\n",
       "0   8.0   8.0\n",
       "0   8.0   2.0\n",
       "0   2.0   2.0\n",
       "0  20.0  20.0\n",
       "0  30.0  20.0\n",
       "0  30.0  30.0\n",
       "0  20.0  30.0\n",
       "0  20.0  20.0\n",
       "0  22.0  22.0\n",
       "0  22.0  28.0\n",
       "0  28.0  28.0\n",
       "0  28.0  22.0\n",
       "0  22.0  22.0"
      ]
     },
     "execution_count": 14,
     "metadata": {},
     "output_type": "execute_result"
    }
   ],
   "source": [
    "import geopandas as gpd\n",
    "from shapely.geometry import shape\n",
    "\n",
    "# Define your JSON data\n",
    "json_data = {\n",
    "  \"type\": \"Feature\",\n",
    "  \"properties\": {},\n",
    "  \"geometry\": {\n",
    "    \"type\": \"MultiPolygon\",\n",
    "    \"coordinates\": [\n",
    "      [\n",
    "        [\n",
    "          [0, 0],\n",
    "          [10, 0],\n",
    "          [10, 10],\n",
    "          [0, 10],\n",
    "          [0, 0]\n",
    "        ],\n",
    "        [\n",
    "          [2, 2],\n",
    "          [2, 8],\n",
    "          [8, 8],\n",
    "          [8, 2],\n",
    "          [2, 2]\n",
    "        ]\n",
    "      ],\n",
    "      [\n",
    "        [\n",
    "          [20, 20],\n",
    "          [30, 20],\n",
    "          [30, 30],\n",
    "          [20, 30],\n",
    "          [20, 20]\n",
    "        ],\n",
    "        [\n",
    "          [22, 22],\n",
    "          [22, 28],\n",
    "          [28, 28],\n",
    "          [28, 22],\n",
    "          [22, 22]\n",
    "        ]\n",
    "      ]\n",
    "    ]\n",
    "  }\n",
    "}\n",
    "\n",
    "\n",
    "# Convert JSON data to a GeoDataFrame\n",
    "geometry = shape(json_data['geometry'])\n",
    "gdf = gpd.GeoDataFrame(geometry=[geometry])\n",
    "\n",
    "# Convert GeoDataFrame to GeoSeries\n",
    "geoseries = gdf['geometry']\n",
    "\n",
    "print(geoseries[0])"
   ]
  },
  {
   "cell_type": "code",
   "execution_count": 15,
   "metadata": {},
   "outputs": [
    {
     "data": {
      "text/plain": [
       "'{\"type\": \"FeatureCollection\", \"features\": [{\"id\": \"0\", \"type\": \"Feature\", \"properties\": {}, \"geometry\": {\"type\": \"MultiPolygon\", \"coordinates\": [[[[0.0, 0.0], [10.0, 0.0], [10.0, 10.0], [0.0, 10.0], [0.0, 0.0]], [[2.0, 2.0], [2.0, 8.0], [8.0, 8.0], [8.0, 2.0], [2.0, 2.0]]], [[[20.0, 20.0], [30.0, 20.0], [30.0, 30.0], [20.0, 30.0], [20.0, 20.0]], [[22.0, 22.0], [22.0, 28.0], [28.0, 28.0], [28.0, 22.0], [22.0, 22.0]]]]}, \"bbox\": [0.0, 0.0, 30.0, 30.0]}], \"bbox\": [0.0, 0.0, 30.0, 30.0]}'"
      ]
     },
     "execution_count": 15,
     "metadata": {},
     "output_type": "execute_result"
    }
   ],
   "source": [
    "geoseries.to_json()"
   ]
  },
  {
   "cell_type": "code",
   "execution_count": 32,
   "metadata": {},
   "outputs": [
    {
     "name": "stdout",
     "output_type": "stream",
     "text": [
      "0.0\n",
      "10.0\n",
      "10.0\n",
      "0.0\n",
      "0.0\n",
      "2.0\n",
      "2.0\n",
      "8.0\n",
      "8.0\n",
      "2.0\n",
      "20.0\n",
      "30.0\n",
      "30.0\n",
      "20.0\n",
      "20.0\n",
      "22.0\n",
      "22.0\n",
      "28.0\n",
      "28.0\n",
      "22.0\n"
     ]
    }
   ],
   "source": [
    "coordinates_df = geoseries.get_coordinates()\n",
    "for index, row in coordinates_df.iterrows():\n",
    "    # Access row data using row['column_name']\n",
    "    print(row['x'])"
   ]
  },
  {
   "cell_type": "code",
   "execution_count": 7,
   "metadata": {},
   "outputs": [
    {
     "ename": "TypeError",
     "evalue": "list indices must be integers or slices, not str",
     "output_type": "error",
     "traceback": [
      "\u001b[0;31m---------------------------------------------------------------------------\u001b[0m",
      "\u001b[0;31mTypeError\u001b[0m                                 Traceback (most recent call last)",
      "Cell \u001b[0;32mIn[7], line 8\u001b[0m\n\u001b[1;32m      6\u001b[0m json_obj \u001b[38;5;241m=\u001b[39m {}\n\u001b[1;32m      7\u001b[0m json_obj[\u001b[38;5;124m'\u001b[39m\u001b[38;5;124msec_representation\u001b[39m\u001b[38;5;124m'\u001b[39m]\u001b[38;5;241m=\u001b[39m []\n\u001b[0;32m----> 8\u001b[0m \u001b[43mjson_obj\u001b[49m\u001b[43m[\u001b[49m\u001b[38;5;124;43m'\u001b[39;49m\u001b[38;5;124;43msec_representation\u001b[39;49m\u001b[38;5;124;43m'\u001b[39;49m\u001b[43m]\u001b[49m\u001b[43m[\u001b[49m\u001b[38;5;124;43m'\u001b[39;49m\u001b[38;5;124;43mgeometry\u001b[39;49m\u001b[38;5;124;43m'\u001b[39;49m\u001b[43m]\u001b[49m \u001b[38;5;241m=\u001b[39m {}\n\u001b[1;32m      9\u001b[0m json_obj[\u001b[38;5;124m'\u001b[39m\u001b[38;5;124msec_representation\u001b[39m\u001b[38;5;124m'\u001b[39m][\u001b[38;5;124m'\u001b[39m\u001b[38;5;124mgeometry\u001b[39m\u001b[38;5;124m'\u001b[39m][\u001b[38;5;124m'\u001b[39m\u001b[38;5;124mcoordinates\u001b[39m\u001b[38;5;124m'\u001b[39m] \u001b[38;5;241m=\u001b[39m json\u001b[38;5;241m.\u001b[39mdumps(coordinates)\n\u001b[1;32m     10\u001b[0m json_obj[\u001b[38;5;124m'\u001b[39m\u001b[38;5;124msec_representation\u001b[39m\u001b[38;5;124m'\u001b[39m][\u001b[38;5;124m'\u001b[39m\u001b[38;5;124mgeometry\u001b[39m\u001b[38;5;124m'\u001b[39m][\u001b[38;5;124m'\u001b[39m\u001b[38;5;124mtype\u001b[39m\u001b[38;5;124m'\u001b[39m] \u001b[38;5;241m=\u001b[39m \u001b[38;5;124m\"\u001b[39m\u001b[38;5;124mPolygon\u001b[39m\u001b[38;5;124m\"\u001b[39m\n",
      "\u001b[0;31mTypeError\u001b[0m: list indices must be integers or slices, not str"
     ]
    }
   ],
   "source": [
    "import json\n",
    "json_str = '{\"type\": \"FeatureCollection\", \"features\": [{\"id\": \"0\", \"type\": \"Feature\", \"properties\": {}, \"geometry\": {\"type\": \"Polygon\", \"coordinates\": [[[37.68234071574153, 9.037578436602471], [37.36213514975508, 6.442555419019049], [36.81783373349052, 3.8883350955368123], [36.05521366351033, 1.39454908786876], [35.07969561005172, -1.0194812357983347], [33.89668688553037, -3.334663250803833], [32.51200587872496, -5.532105596036247], [30.932370439434383, -7.5931546288929415], [29.16592693237443, -9.499503373027851], [27.222787245890167, -11.233378782293968], [25.11552959519741, -12.777808393282426], [22.859608115612094, -14.116960337337986], [20.473609745126893, -15.236541443586004], [17.979299046450826, -16.124227779417826], [15.401405996363003, -16.77009229064069], [12.767139484348617, -17.166987684448777], [10.105447403954548, -17.310841804617674], [7.4460855088427165, -17.20082904529525], [4.818591569449895, -16.839394688931993], [2.2512792636092924, -16.232127262503504], [-0.2296376327206852, -15.387493363663681], [-2.6007046515667285, -14.31646580034837], [-4.8416214529484805, -13.032086143139793], [-6.935365080691516, -11.549005600251668], [-8.868069745327341, -9.883044180260013], [-10.62871430624281, -8.050799518739135], [-12.208678303598532, -6.069326130492842], [-13.601225811726895, -3.9558955158448312], [-14.800967529626512, -1.7278390241646238], [-15.803339565568228, 0.5975306805215617], [-16.60412564895351, 3.002927337470417], [-17.19904015554558, 5.471037450389872], [-17.583383424135246, 7.984415130778189], [-17.751778678676402, 10.525335036685053], [-17.698001322952262, 13.075612830229385], [-17.414916093855478, 15.616402999456653], [-16.894545004270864, 18.127985450498233], [-16.128298282560323, 20.589555457591814], [-15.107409989869868, 22.979036763465817], [-13.823626707246772, 25.272945041787917], [-12.270196653528913, 27.44633827237952], [-10.443190389549175, 29.47290060632094], [-8.343143571554865, 31.32521425422838], [-5.976938658094976, 32.97527504515794], [-3.359734896405657, 34.39529494852405], [-0.5166298967468778, 35.55880219834751], [2.5163675877429252, 36.44199352416266], [5.692491839657627, 37.02521931959415], [8.955809132969517, 37.29441050382834], [12.24425508484867, 37.24221515828536], [15.493746697876865, 36.86863174086518], [18.642664224534407, 36.18101180594347], [21.635876712968493, 35.19343570208819], [24.42763435237112, 33.925593529084864], [26.982996223690282, 32.4013856197292], [29.277845594075746, 30.64747132869302], [31.297823158419362, 28.691951917594462], [33.0366210474436, 26.563301305870603], [34.49405010965715, 24.28958644921076], [35.67418422104612, 21.89796507923057], [36.583760010538874, 19.414417572292525], [37.230906267723796, 16.863658291041855], [37.62420769200715, 14.2691730841742], [37.7720701738396, 11.653337331303707], [37.68234071574153, 9.037578436602471]]]}, \"bbox\": [-17.751778678676402, -17.310841804617674, 37.7720701738396, 37.29441050382834]}], \"bbox\": [-17.751778678676402, -17.310841804617674, 37.7720701738396, 37.29441050382834]}'\n",
    "# json_api = json.loads('{\"sec_representation\": [{\"geometry\": {\"coordinates\": [[[-11.075346,44.169208],[-12.420349,42.265542]]],\"type\": \"Polygon\"},      \"properties\": {},\"type\": \"Feature\"}]}')\n",
    "json_api = json.loads(json_str)\n",
    "coordinates = json_api[\"features\"][0][\"geometry\"][\"coordinates\"]\n",
    "json_obj = {}\n",
    "json_obj['sec_representation'] = {}\n",
    "json_obj['sec_representation']['geometry'] = {}\n",
    "json_obj['sec_representation']['geometry']['coordinates'] = json.dumps(coordinates)\n",
    "json_obj['sec_representation']['geometry']['type'] = \"Polygon\"\n",
    "json_obj['sec_representation']['properties'] = {}\n",
    "json_obj['sec_representation']['type'] = \"Feature\"\n",
    "json_obj_str = json.dumps(json_obj)\n",
    "json_obj_str\n"
   ]
  },
  {
   "cell_type": "code",
   "execution_count": null,
   "metadata": {},
   "outputs": [],
   "source": []
  }
 ],
 "metadata": {
  "kernelspec": {
   "display_name": "Python 3",
   "language": "python",
   "name": "python3"
  },
  "language_info": {
   "codemirror_mode": {
    "name": "ipython",
    "version": 3
   },
   "file_extension": ".py",
   "mimetype": "text/x-python",
   "name": "python",
   "nbconvert_exporter": "python",
   "pygments_lexer": "ipython3",
   "version": "3.11.6"
  }
 },
 "nbformat": 4,
 "nbformat_minor": 2
}
