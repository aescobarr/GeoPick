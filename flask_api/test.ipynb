{
 "cells": [
  {
   "cell_type": "code",
   "execution_count": 13,
   "metadata": {},
   "outputs": [
    {
     "name": "stdout",
     "output_type": "stream",
     "text": [
      "2024-02-14T15-54-04.418Z-916\n"
     ]
    }
   ],
   "source": [
    "\n",
    "now_utc = datetime.now(timezone.utc)\n",
    "timestamp_str = now_utc.strftime(\"%Y-%m-%dT%H-%M-%S.%f\")[:-3] + 'Z'\n",
    "\n",
    "print(timestamp_str + \"-\" + str(random.randint(0, 999)))\n"
   ]
  },
  {
   "cell_type": "code",
   "execution_count": null,
   "metadata": {},
   "outputs": [],
   "source": []
  }
 ],
 "metadata": {
  "kernelspec": {
   "display_name": "Python 3",
   "language": "python",
   "name": "python3"
  },
  "language_info": {
   "codemirror_mode": {
    "name": "ipython",
    "version": 3
   },
   "file_extension": ".py",
   "mimetype": "text/x-python",
   "name": "python",
   "nbconvert_exporter": "python",
   "pygments_lexer": "ipython3",
   "version": "3.11.6"
  }
 },
 "nbformat": 4,
 "nbformat_minor": 2
}
