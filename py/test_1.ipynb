{
 "cells": [
  {
   "cell_type": "code",
   "execution_count": 1,
   "metadata": {},
   "outputs": [],
   "source": [
    "import geopick as gp\n",
    "import matplotlib.pyplot as plt\n",
    "# import warnings\n",
    "# warnings.filterwarnings('ignore')\n",
    "\n",
    "json_location = '{\"type\": \"Feature\", \"properties\": {}, \"geometry\": {\"type\": \"Polygon\", \"coordinates\": [[[4.298967, 39.831525], [4.302463, 39.831981], [4.301806, 39.832417], [4.30117, 39.832516], [4.300434, 39.832888], [4.300219, 39.833024], [4.299835, 39.833137], [4.29955, 39.83298], [4.29952, 39.832675], [4.299406, 39.832212], [4.298967, 39.831525]]]}}'\n",
    "\n",
    "json_location = '{\"type\": \"Feature\", \"properties\": {}, \"geometry\": {\"type\": \"Polygon\", \"coordinates\": [[[6.2568, 75.1633], [22.8780, 72.9454], [2.6511, 69.8699], [6.2568, 75.1633]]]}}'\n",
    "# wkt = \"POLYGON ((6.2568 75.1633, 22.8780 72.9454, 2.6511 69.8699, 6.2568 75.1633))\"\n",
    "# wkt = \"MULTIPOLYGON (((119.333496 38.013476, 119.20166 36.297418, 121.398926 36.456636, 121.420898 38.117272, 119.333496 38.013476)), ((127.22168 38.23818, 127.133789 36.491973, 129.770508 36.279707, 129.726563 38.272689, 127.22168 38.23818)))\"\n",
    "# json_location = \"\"\"\n",
    "# {\n",
    "#   \"type\": \"MultiPolygon\",\n",
    "#   \"coordinates\": [\n",
    "#     [\n",
    "#       [\n",
    "#         [119.333496, 38.013476],\n",
    "#         [119.20166, 36.297418],\n",
    "#         [121.398926, 36.456636],\n",
    "#         [121.420898, 38.117272],\n",
    "#         [119.333496, 38.013476]\n",
    "#       ]\n",
    "#     ],\n",
    "#     [\n",
    "#       [\n",
    "#         [127.22168, 38.23818],\n",
    "#         [127.133789, 36.491973],\n",
    "#         [129.770508, 36.279707],\n",
    "#         [129.726563, 38.272689],\n",
    "#         [127.22168, 38.23818]\n",
    "#       ]\n",
    "#     ]\n",
    "#   ]\n",
    "# }\n",
    "# \"\"\"\n",
    "json_location = json_location.replace(\"'\", \"\\\"\")"
   ]
  },
  {
   "cell_type": "code",
   "execution_count": 2,
   "metadata": {},
   "outputs": [
    {
     "name": "stderr",
     "output_type": "stream",
     "text": [
      "/var/folders/yb/wls9204n6hqcz764kjgy_sv80000gn/T/ipykernel_17359/566975278.py:2: UserWarning: Geometry is in a geographic CRS. Results from 'centroid' are likely incorrect. Use 'GeoSeries.to_crs()' to re-project geometries to a projected CRS before this operation.\n",
      "\n",
      "  centroid_wgs84 = location_wgs84.centroid\n"
     ]
    },
    {
     "data": {
      "text/plain": [
       "<Axes: >"
      ]
     },
     "execution_count": 2,
     "metadata": {},
     "output_type": "execute_result"
    },
    {
     "data": {
      "image/png": "[encoded data removed]",
      "text/plain": [
       "<Figure size 800x800 with 1 Axes>"
      ]
     },
     "metadata": {},
     "output_type": "display_data"
    }
   ],
   "source": [
    "location_wgs84 = gp.json_to_geoseries(json_location)\n",
    "centroid_wgs84 = location_wgs84.centroid\n",
    "\n",
    "fig, ax = plt.subplots(figsize=(8, 8))\n",
    "location_wgs84.plot(aspect = \"equal\", color = \"blue\", ax = ax)\n",
    "centroid_wgs84.plot(aspect = \"equal\", color = \"red\", ax = ax)"
   ]
  },
  {
   "cell_type": "code",
   "execution_count": 3,
   "metadata": {},
   "outputs": [
    {
     "name": "stdout",
     "output_type": "stream",
     "text": [
      "+proj=aeqd +lat_0=72.65953333333334 +lon_0=10.5953 +y_0=0 +x_0=0 ++R=6371000 ++units=m +ellps=WGS84 +type=crs\n"
     ]
    }
   ],
   "source": [
    "proj_aeqd = gp.get_proj_aeqd(centroid_wgs84)\n",
    "print(proj_aeqd)"
   ]
  },
  {
   "cell_type": "code",
   "execution_count": 4,
   "metadata": {},
   "outputs": [
    {
     "name": "stderr",
     "output_type": "stream",
     "text": [
      "/Users/arnald/Library/CloudStorage/OneDrive-UAB/wb/GeoPick/py/geopick.py:112: UserWarning: Geometry is in a geographic CRS. Results from 'centroid' are likely incorrect. Use 'GeoSeries.to_crs()' to re-project geometries to a projected CRS before this operation.\n",
      "\n",
      "  centroid_wgs84 = location_wgs84.centroid\n"
     ]
    },
    {
     "name": "stdout",
     "output_type": "stream",
     "text": [
      "Centroid: 0    POINT (11.54698 71.92976)\n",
      "dtype: geometry\n",
      "Uncertainty: 0    395927.827251\n",
      "dtype: float64\n"
     ]
    },
    {
     "data": {
      "image/png": "[encoded data removed]",
      "text/plain": [
       "<Figure size 800x800 with 1 Axes>"
      ]
     },
     "metadata": {},
     "output_type": "display_data"
    }
   ],
   "source": [
    "res = gp.get_georeference(location_wgs84)\n",
    "\n",
    "centroid = res[0]\n",
    "uncertainty = res[1]\n",
    "sec = res[2]\n",
    "\n",
    "fig, ax = plt.subplots(figsize=(8, 8))\n",
    "sec.plot(aspect = \"equal\", color = \"blue\", ax = ax)\n",
    "location_wgs84.plot(aspect = \"equal\", color = \"red\", ax = ax)\n",
    "centroid.plot(aspect = \"equal\", color = \"green\", markersize = 20, ax = ax)\n",
    "\n",
    "print(\"Centroid:\", centroid)\n",
    "print(\"Uncertainty:\", uncertainty)\n",
    "\n"
   ]
  },
  {
   "cell_type": "code",
   "execution_count": null,
   "metadata": {},
   "outputs": [],
   "source": []
  }
 ],
 "metadata": {
  "kernelspec": {
   "display_name": "Python 3",
   "language": "python",
   "name": "python3"
  },
  "language_info": {
   "codemirror_mode": {
    "name": "ipython",
    "version": 3
   },
   "file_extension": ".py",
   "mimetype": "text/x-python",
   "name": "python",
   "nbconvert_exporter": "python",
   "pygments_lexer": "ipython3",
   "version": "3.11.6"
  }
 },
 "nbformat": 4,
 "nbformat_minor": 2
}
